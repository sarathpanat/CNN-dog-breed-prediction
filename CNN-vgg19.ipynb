{
  "nbformat": 4,
  "nbformat_minor": 0,
  "metadata": {
    "colab": {
      "name": "Untitled8.ipynb",
      "provenance": [],
      "authorship_tag": "ABX9TyPQPjCsVG/D/7alOT/f/0Be",
      "include_colab_link": true
    },
    "kernelspec": {
      "name": "python3",
      "display_name": "Python 3"
    },
    "accelerator": "GPU"
  },
  "cells": [
    {
      "cell_type": "markdown",
      "metadata": {
        "id": "view-in-github",
        "colab_type": "text"
      },
      "source": [
        "<a href=\"https://colab.research.google.com/github/sarathpanat/CNN-dog-breed-prediction/blob/master/CNN-vgg19.ipynb\" target=\"_parent\"><img src=\"https://colab.research.google.com/assets/colab-badge.svg\" alt=\"Open In Colab\"/></a>"
      ]
    },
    {
      "cell_type": "code",
      "metadata": {
        "id": "l0JXNlafV4hC",
        "outputId": "82c90d13-c771-47a0-a821-81e08d6b52a4",
        "colab": {
          "base_uri": "https://localhost:8080/",
          "height": 34
        }
      },
      "source": [
        "from google.colab import drive\n",
        "drive.mount('/content/drive/')"
      ],
      "execution_count": null,
      "outputs": [
        {
          "output_type": "stream",
          "text": [
            "Drive already mounted at /content/drive/; to attempt to forcibly remount, call drive.mount(\"/content/drive/\", force_remount=True).\n"
          ],
          "name": "stdout"
        }
      ]
    },
    {
      "cell_type": "code",
      "metadata": {
        "id": "sbO5LG2uV72_",
        "outputId": "c29432b5-07ac-4a0c-982c-0a4eb43a447d",
        "colab": {
          "base_uri": "https://localhost:8080/",
          "height": 34
        }
      },
      "source": [
        "import numpy as np\n",
        "from glob import glob\n",
        "\n",
        "dog_files = np.array(glob(\"/content/drive/My Drive/project-dog-classification/project-dog-classification/dogImages/*/*/*\"))\n",
        "\n",
        "print('There are %d total dog images.' % len(dog_files))"
      ],
      "execution_count": null,
      "outputs": [
        {
          "output_type": "stream",
          "text": [
            "There are 8351 total dog images.\n"
          ],
          "name": "stdout"
        }
      ]
    },
    {
      "cell_type": "code",
      "metadata": {
        "id": "2JKMQbBrV-q0",
        "outputId": "93c66657-2dc8-4b54-f7f6-6659a1f7ab1a",
        "colab": {
          "base_uri": "https://localhost:8080/",
          "height": 884
        }
      },
      "source": [
        "import torch\n",
        "import torchvision.models as models\n",
        "\n",
        "import torch.nn as nn\n",
        "# define VGG19 model\n",
        "vgg19 = models.vgg19(pretrained=True)\n",
        "\n",
        "# check if CUDA is available otherwise use cpu\n",
        "device = torch.device(\"cuda:0\" if torch.cuda.is_available() else \"cpu\")\n",
        "\n",
        "# move model to GPU if CUDA is available or to cpu\n",
        "vgg19 = vgg19.to(device)\n",
        "print(vgg19)"
      ],
      "execution_count": null,
      "outputs": [
        {
          "output_type": "stream",
          "text": [
            "VGG(\n",
            "  (features): Sequential(\n",
            "    (0): Conv2d(3, 64, kernel_size=(3, 3), stride=(1, 1), padding=(1, 1))\n",
            "    (1): ReLU(inplace=True)\n",
            "    (2): Conv2d(64, 64, kernel_size=(3, 3), stride=(1, 1), padding=(1, 1))\n",
            "    (3): ReLU(inplace=True)\n",
            "    (4): MaxPool2d(kernel_size=2, stride=2, padding=0, dilation=1, ceil_mode=False)\n",
            "    (5): Conv2d(64, 128, kernel_size=(3, 3), stride=(1, 1), padding=(1, 1))\n",
            "    (6): ReLU(inplace=True)\n",
            "    (7): Conv2d(128, 128, kernel_size=(3, 3), stride=(1, 1), padding=(1, 1))\n",
            "    (8): ReLU(inplace=True)\n",
            "    (9): MaxPool2d(kernel_size=2, stride=2, padding=0, dilation=1, ceil_mode=False)\n",
            "    (10): Conv2d(128, 256, kernel_size=(3, 3), stride=(1, 1), padding=(1, 1))\n",
            "    (11): ReLU(inplace=True)\n",
            "    (12): Conv2d(256, 256, kernel_size=(3, 3), stride=(1, 1), padding=(1, 1))\n",
            "    (13): ReLU(inplace=True)\n",
            "    (14): Conv2d(256, 256, kernel_size=(3, 3), stride=(1, 1), padding=(1, 1))\n",
            "    (15): ReLU(inplace=True)\n",
            "    (16): Conv2d(256, 256, kernel_size=(3, 3), stride=(1, 1), padding=(1, 1))\n",
            "    (17): ReLU(inplace=True)\n",
            "    (18): MaxPool2d(kernel_size=2, stride=2, padding=0, dilation=1, ceil_mode=False)\n",
            "    (19): Conv2d(256, 512, kernel_size=(3, 3), stride=(1, 1), padding=(1, 1))\n",
            "    (20): ReLU(inplace=True)\n",
            "    (21): Conv2d(512, 512, kernel_size=(3, 3), stride=(1, 1), padding=(1, 1))\n",
            "    (22): ReLU(inplace=True)\n",
            "    (23): Conv2d(512, 512, kernel_size=(3, 3), stride=(1, 1), padding=(1, 1))\n",
            "    (24): ReLU(inplace=True)\n",
            "    (25): Conv2d(512, 512, kernel_size=(3, 3), stride=(1, 1), padding=(1, 1))\n",
            "    (26): ReLU(inplace=True)\n",
            "    (27): MaxPool2d(kernel_size=2, stride=2, padding=0, dilation=1, ceil_mode=False)\n",
            "    (28): Conv2d(512, 512, kernel_size=(3, 3), stride=(1, 1), padding=(1, 1))\n",
            "    (29): ReLU(inplace=True)\n",
            "    (30): Conv2d(512, 512, kernel_size=(3, 3), stride=(1, 1), padding=(1, 1))\n",
            "    (31): ReLU(inplace=True)\n",
            "    (32): Conv2d(512, 512, kernel_size=(3, 3), stride=(1, 1), padding=(1, 1))\n",
            "    (33): ReLU(inplace=True)\n",
            "    (34): Conv2d(512, 512, kernel_size=(3, 3), stride=(1, 1), padding=(1, 1))\n",
            "    (35): ReLU(inplace=True)\n",
            "    (36): MaxPool2d(kernel_size=2, stride=2, padding=0, dilation=1, ceil_mode=False)\n",
            "  )\n",
            "  (avgpool): AdaptiveAvgPool2d(output_size=(7, 7))\n",
            "  (classifier): Sequential(\n",
            "    (0): Linear(in_features=25088, out_features=4096, bias=True)\n",
            "    (1): ReLU(inplace=True)\n",
            "    (2): Dropout(p=0.5, inplace=False)\n",
            "    (3): Linear(in_features=4096, out_features=4096, bias=True)\n",
            "    (4): ReLU(inplace=True)\n",
            "    (5): Dropout(p=0.5, inplace=False)\n",
            "    (6): Linear(in_features=4096, out_features=1000, bias=True)\n",
            "  )\n",
            ")\n"
          ],
          "name": "stdout"
        }
      ]
    },
    {
      "cell_type": "code",
      "metadata": {
        "id": "OmZd8L7lWAjv"
      },
      "source": [
        "import os\n",
        "from torchvision import datasets\n",
        "import torchvision.transforms as transforms\n",
        "\n",
        "data_transforms = {\n",
        "    'train': transforms.Compose([\n",
        "        transforms.RandomRotation(20),\n",
        "        transforms.RandomResizedCrop(224),\n",
        "        transforms.RandomHorizontalFlip(),\n",
        "        transforms.ToTensor(),\n",
        "        transforms.Normalize([0.485, 0.456, 0.406], [0.229, 0.224, 0.225])\n",
        "    ]),\n",
        "    'valid': transforms.Compose([\n",
        "        transforms.Resize(256),\n",
        "        transforms.CenterCrop(224),\n",
        "        transforms.ToTensor(),\n",
        "        transforms.Normalize([0.485, 0.456, 0.406], [0.229, 0.224, 0.225])\n",
        "    ]),\n",
        "    'test': transforms.Compose([\n",
        "        transforms.Resize(256),\n",
        "        transforms.CenterCrop(224),\n",
        "        transforms.ToTensor(),\n",
        "        transforms.Normalize([0.485, 0.456, 0.406], [0.229, 0.224, 0.225])\n",
        "    ]),\n",
        "}\n",
        "\n",
        "data_dir = '/content/drive/My Drive/project-dog-classification/project-dog-classification/dogImages/'\n",
        "\n",
        "images_data = {p: datasets.ImageFolder(os.path.join(data_dir, p), \n",
        "                                       data_transforms[p]) \n",
        "               for p in ['train', 'valid', 'test']}\n",
        "\n",
        "dataloaders = {p: torch.utils.data.DataLoader(images_data[p], batch_size=64, \n",
        "                                              shuffle=True, num_workers=4)\n",
        "               for p in ['train', 'valid', 'test']}"
      ],
      "execution_count": null,
      "outputs": []
    },
    {
      "cell_type": "code",
      "metadata": {
        "id": "5KpYrKAvWEro",
        "outputId": "a14015ff-15da-4c02-8d0e-bbea3e335866",
        "colab": {
          "base_uri": "https://localhost:8080/",
          "height": 884
        }
      },
      "source": [
        "for param in vgg19.features.parameters():\n",
        "    param.requires_grad = False\n",
        "\n",
        "n_inputs = vgg19.classifier[6].in_features\n",
        "\n",
        "dog_layer = nn.Linear(n_inputs, len(images_data['train'].classes))\n",
        "vgg19.classifier[6] = dog_layer\n",
        "\n",
        "vgg19.to(device)"
      ],
      "execution_count": null,
      "outputs": [
        {
          "output_type": "execute_result",
          "data": {
            "text/plain": [
              "VGG(\n",
              "  (features): Sequential(\n",
              "    (0): Conv2d(3, 64, kernel_size=(3, 3), stride=(1, 1), padding=(1, 1))\n",
              "    (1): ReLU(inplace=True)\n",
              "    (2): Conv2d(64, 64, kernel_size=(3, 3), stride=(1, 1), padding=(1, 1))\n",
              "    (3): ReLU(inplace=True)\n",
              "    (4): MaxPool2d(kernel_size=2, stride=2, padding=0, dilation=1, ceil_mode=False)\n",
              "    (5): Conv2d(64, 128, kernel_size=(3, 3), stride=(1, 1), padding=(1, 1))\n",
              "    (6): ReLU(inplace=True)\n",
              "    (7): Conv2d(128, 128, kernel_size=(3, 3), stride=(1, 1), padding=(1, 1))\n",
              "    (8): ReLU(inplace=True)\n",
              "    (9): MaxPool2d(kernel_size=2, stride=2, padding=0, dilation=1, ceil_mode=False)\n",
              "    (10): Conv2d(128, 256, kernel_size=(3, 3), stride=(1, 1), padding=(1, 1))\n",
              "    (11): ReLU(inplace=True)\n",
              "    (12): Conv2d(256, 256, kernel_size=(3, 3), stride=(1, 1), padding=(1, 1))\n",
              "    (13): ReLU(inplace=True)\n",
              "    (14): Conv2d(256, 256, kernel_size=(3, 3), stride=(1, 1), padding=(1, 1))\n",
              "    (15): ReLU(inplace=True)\n",
              "    (16): Conv2d(256, 256, kernel_size=(3, 3), stride=(1, 1), padding=(1, 1))\n",
              "    (17): ReLU(inplace=True)\n",
              "    (18): MaxPool2d(kernel_size=2, stride=2, padding=0, dilation=1, ceil_mode=False)\n",
              "    (19): Conv2d(256, 512, kernel_size=(3, 3), stride=(1, 1), padding=(1, 1))\n",
              "    (20): ReLU(inplace=True)\n",
              "    (21): Conv2d(512, 512, kernel_size=(3, 3), stride=(1, 1), padding=(1, 1))\n",
              "    (22): ReLU(inplace=True)\n",
              "    (23): Conv2d(512, 512, kernel_size=(3, 3), stride=(1, 1), padding=(1, 1))\n",
              "    (24): ReLU(inplace=True)\n",
              "    (25): Conv2d(512, 512, kernel_size=(3, 3), stride=(1, 1), padding=(1, 1))\n",
              "    (26): ReLU(inplace=True)\n",
              "    (27): MaxPool2d(kernel_size=2, stride=2, padding=0, dilation=1, ceil_mode=False)\n",
              "    (28): Conv2d(512, 512, kernel_size=(3, 3), stride=(1, 1), padding=(1, 1))\n",
              "    (29): ReLU(inplace=True)\n",
              "    (30): Conv2d(512, 512, kernel_size=(3, 3), stride=(1, 1), padding=(1, 1))\n",
              "    (31): ReLU(inplace=True)\n",
              "    (32): Conv2d(512, 512, kernel_size=(3, 3), stride=(1, 1), padding=(1, 1))\n",
              "    (33): ReLU(inplace=True)\n",
              "    (34): Conv2d(512, 512, kernel_size=(3, 3), stride=(1, 1), padding=(1, 1))\n",
              "    (35): ReLU(inplace=True)\n",
              "    (36): MaxPool2d(kernel_size=2, stride=2, padding=0, dilation=1, ceil_mode=False)\n",
              "  )\n",
              "  (avgpool): AdaptiveAvgPool2d(output_size=(7, 7))\n",
              "  (classifier): Sequential(\n",
              "    (0): Linear(in_features=25088, out_features=4096, bias=True)\n",
              "    (1): ReLU(inplace=True)\n",
              "    (2): Dropout(p=0.5, inplace=False)\n",
              "    (3): Linear(in_features=4096, out_features=4096, bias=True)\n",
              "    (4): ReLU(inplace=True)\n",
              "    (5): Dropout(p=0.5, inplace=False)\n",
              "    (6): Linear(in_features=4096, out_features=133, bias=True)\n",
              "  )\n",
              ")"
            ]
          },
          "metadata": {
            "tags": []
          },
          "execution_count": 5
        }
      ]
    },
    {
      "cell_type": "code",
      "metadata": {
        "id": "w4FZMvsiJK72",
        "outputId": "d8aee755-4964-459f-a20a-37ed4f0e5d51",
        "colab": {
          "base_uri": "https://localhost:8080/",
          "height": 1000
        }
      },
      "source": [
        "from torchsummary import summary\n",
        "summary(vgg19, (3, 244, 244))"
      ],
      "execution_count": null,
      "outputs": [
        {
          "output_type": "stream",
          "text": [
            "----------------------------------------------------------------\n",
            "        Layer (type)               Output Shape         Param #\n",
            "================================================================\n",
            "            Conv2d-1         [-1, 64, 244, 244]           1,792\n",
            "              ReLU-2         [-1, 64, 244, 244]               0\n",
            "            Conv2d-3         [-1, 64, 244, 244]          36,928\n",
            "              ReLU-4         [-1, 64, 244, 244]               0\n",
            "         MaxPool2d-5         [-1, 64, 122, 122]               0\n",
            "            Conv2d-6        [-1, 128, 122, 122]          73,856\n",
            "              ReLU-7        [-1, 128, 122, 122]               0\n",
            "            Conv2d-8        [-1, 128, 122, 122]         147,584\n",
            "              ReLU-9        [-1, 128, 122, 122]               0\n",
            "        MaxPool2d-10          [-1, 128, 61, 61]               0\n",
            "           Conv2d-11          [-1, 256, 61, 61]         295,168\n",
            "             ReLU-12          [-1, 256, 61, 61]               0\n",
            "           Conv2d-13          [-1, 256, 61, 61]         590,080\n",
            "             ReLU-14          [-1, 256, 61, 61]               0\n",
            "           Conv2d-15          [-1, 256, 61, 61]         590,080\n",
            "             ReLU-16          [-1, 256, 61, 61]               0\n",
            "           Conv2d-17          [-1, 256, 61, 61]         590,080\n",
            "             ReLU-18          [-1, 256, 61, 61]               0\n",
            "        MaxPool2d-19          [-1, 256, 30, 30]               0\n",
            "           Conv2d-20          [-1, 512, 30, 30]       1,180,160\n",
            "             ReLU-21          [-1, 512, 30, 30]               0\n",
            "           Conv2d-22          [-1, 512, 30, 30]       2,359,808\n",
            "             ReLU-23          [-1, 512, 30, 30]               0\n",
            "           Conv2d-24          [-1, 512, 30, 30]       2,359,808\n",
            "             ReLU-25          [-1, 512, 30, 30]               0\n",
            "           Conv2d-26          [-1, 512, 30, 30]       2,359,808\n",
            "             ReLU-27          [-1, 512, 30, 30]               0\n",
            "        MaxPool2d-28          [-1, 512, 15, 15]               0\n",
            "           Conv2d-29          [-1, 512, 15, 15]       2,359,808\n",
            "             ReLU-30          [-1, 512, 15, 15]               0\n",
            "           Conv2d-31          [-1, 512, 15, 15]       2,359,808\n",
            "             ReLU-32          [-1, 512, 15, 15]               0\n",
            "           Conv2d-33          [-1, 512, 15, 15]       2,359,808\n",
            "             ReLU-34          [-1, 512, 15, 15]               0\n",
            "           Conv2d-35          [-1, 512, 15, 15]       2,359,808\n",
            "             ReLU-36          [-1, 512, 15, 15]               0\n",
            "        MaxPool2d-37            [-1, 512, 7, 7]               0\n",
            "AdaptiveAvgPool2d-38            [-1, 512, 7, 7]               0\n",
            "           Linear-39                 [-1, 4096]     102,764,544\n",
            "             ReLU-40                 [-1, 4096]               0\n",
            "          Dropout-41                 [-1, 4096]               0\n",
            "           Linear-42                 [-1, 4096]      16,781,312\n",
            "             ReLU-43                 [-1, 4096]               0\n",
            "          Dropout-44                 [-1, 4096]               0\n",
            "           Linear-45                  [-1, 133]         544,901\n",
            "================================================================\n",
            "Total params: 140,115,141\n",
            "Trainable params: 120,090,757\n",
            "Non-trainable params: 20,024,384\n",
            "----------------------------------------------------------------\n",
            "Input size (MB): 0.68\n",
            "Forward/backward pass size (MB): 281.83\n",
            "Params size (MB): 534.50\n",
            "Estimated Total Size (MB): 817.01\n",
            "----------------------------------------------------------------\n"
          ],
          "name": "stdout"
        }
      ]
    },
    {
      "cell_type": "code",
      "metadata": {
        "id": "DieimPSXWHtz"
      },
      "source": [
        "from PIL import ImageFile\n",
        "ImageFile.LOAD_TRUNCATED_IMAGES=True"
      ],
      "execution_count": null,
      "outputs": []
    },
    {
      "cell_type": "code",
      "metadata": {
        "id": "VWHY9ivrMu5H"
      },
      "source": [
        "import torch.optim as optim\n",
        "\n",
        "### TODO: select loss function\n",
        "criterion_scratch = nn.CrossEntropyLoss()\n",
        "\n",
        "### TODO: select optimizer\n",
        "# optimizer_inception = optim.Adam(model_scratch.parameters(), lr=0.001, momentum=0.9)\n",
        "optimizer_scratch = optim.Adam(vgg19.parameters(), lr=0.001)"
      ],
      "execution_count": null,
      "outputs": []
    },
    {
      "cell_type": "code",
      "metadata": {
        "id": "Pj2rI0YLMj4L"
      },
      "source": [
        "def train_vgg19(n_epochs, loaders, model, optimizer, criterion, device, save_path):\n",
        "    \"\"\"returns trained model\"\"\"\n",
        "    # initialize tracker for minimum validation loss\n",
        "    valid_loss_min = np.Inf \n",
        "    \n",
        "    for epoch in range(1, n_epochs+1):\n",
        "        # initialize variables to monitor training and validation loss\n",
        "        train_loss = 0.0\n",
        "        valid_loss = 0.0\n",
        "        \n",
        "        ###################\n",
        "        # train the model #\n",
        "        ###################\n",
        "        model.train()\n",
        "        for batch_idx, (data, target) in enumerate(loaders['train']):\n",
        "            # move to GPU or CPU\n",
        "            data, target = data.to(device), target.to(device)\n",
        "            \n",
        "            ## find the loss and update the model parameters accordingly\n",
        "            ## record the average training loss, using something like\n",
        "            ## train_loss = train_loss + ((1 / (batch_idx + 1)) * (loss.data - train_loss))\n",
        "            optimizer.zero_grad()\n",
        "            output = model(data)\n",
        "            loss = criterion(output, target)\n",
        "            \n",
        "            loss.backward()\n",
        "            optimizer.step()\n",
        "            \n",
        "            train_loss += ((1 / (batch_idx + 1)) * (loss.data - train_loss))\n",
        "            \n",
        "        ######################    \n",
        "        # validate the model #\n",
        "        ######################\n",
        "        model.eval()\n",
        "        for batch_idx, (data, target) in enumerate(loaders['valid']):\n",
        "            # move to GPU or CPU\n",
        "            data, target = data.to(device), target.to(device)\n",
        "            \n",
        "            ## update the average validation loss\n",
        "            output = model(data)\n",
        "            loss = criterion(output, target)\n",
        "            \n",
        "            valid_loss += ((1 / (batch_idx + 1)) * (loss.data - valid_loss))\n",
        "            \n",
        "        # print training/validation statistics \n",
        "        print('Epoch: {} \\tTraining Loss: {:.6f} \\tValidation Loss: {:.6f}'.format(\n",
        "            epoch, \n",
        "            train_loss,\n",
        "            valid_loss\n",
        "            ))\n",
        "        \n",
        "        ## TODO: save the model if validation loss has decreased\n",
        "        if valid_loss < valid_loss_min:\n",
        "            print('Saving model..')\n",
        "            valid_loss_min = valid_loss\n",
        "            torch.save(model.state_dict(), save_path)\n",
        "            \n",
        "    # return trained model\n",
        "    return model"
      ],
      "execution_count": null,
      "outputs": []
    },
    {
      "cell_type": "code",
      "metadata": {
        "id": "o2EelvW_WVH6"
      },
      "source": [
        "def test(loaders, model, criterion, device):\n",
        "\n",
        "    # monitor test loss and accuracy\n",
        "    test_loss = 0.\n",
        "    correct = 0.\n",
        "    total = 0.\n",
        "\n",
        "    model.eval()\n",
        "    for batch_idx, (data, target) in enumerate(loaders['test']):\n",
        "        # move to GPU or CPU\n",
        "        data, target = data.to(device), target.to(device)\n",
        "        \n",
        "        # forward pass: compute predicted outputs by passing inputs to the model\n",
        "        output = model(data)\n",
        "        # calculate the loss\n",
        "        loss = criterion(output, target)\n",
        "        # update average test loss \n",
        "        test_loss = test_loss + ((1 / (batch_idx + 1)) * (loss.data - test_loss))\n",
        "        # convert output probabilities to predicted class\n",
        "        pred = output.data.max(1, keepdim=True)[1]\n",
        "        # compare predictions to true label\n",
        "        correct += np.sum(np.squeeze(pred.eq(target.data.view_as(pred))).cpu().numpy())\n",
        "        total += data.size(0)\n",
        "            \n",
        "    print('Test Loss: {:.6f}\\n'.format(test_loss))\n",
        "\n",
        "    print('\\nTest Accuracy: %2d%% (%2d/%2d)' % (\n",
        "        100. * correct / total, correct, total))"
      ],
      "execution_count": null,
      "outputs": []
    },
    {
      "cell_type": "code",
      "metadata": {
        "id": "Y5AG29BSNFdv",
        "outputId": "d5dce4fe-8433-4f86-db3f-b38d3e3edafa",
        "colab": {
          "base_uri": "https://localhost:8080/",
          "height": 1000
        }
      },
      "source": [
        "VGG19 = train_vgg19(50, dataloaders, vgg19, optimizer_scratch, criterion_scratch, device, 'VGG19.pt')"
      ],
      "execution_count": null,
      "outputs": [
        {
          "output_type": "stream",
          "text": [
            "Epoch: 1 \tTraining Loss: 3.273817 \tValidation Loss: 1.395340\n",
            "Saving model..\n",
            "Epoch: 2 \tTraining Loss: 2.628437 \tValidation Loss: 1.254659\n",
            "Saving model..\n",
            "Epoch: 3 \tTraining Loss: 2.669195 \tValidation Loss: 1.055977\n",
            "Saving model..\n",
            "Epoch: 4 \tTraining Loss: 2.560189 \tValidation Loss: 1.068143\n",
            "Epoch: 5 \tTraining Loss: 2.536788 \tValidation Loss: 1.015770\n",
            "Saving model..\n",
            "Epoch: 6 \tTraining Loss: 2.474079 \tValidation Loss: 1.267183\n",
            "Epoch: 7 \tTraining Loss: 2.417984 \tValidation Loss: 0.911028\n",
            "Saving model..\n",
            "Epoch: 8 \tTraining Loss: 2.444633 \tValidation Loss: 0.920501\n",
            "Epoch: 9 \tTraining Loss: 2.435886 \tValidation Loss: 1.044345\n",
            "Epoch: 10 \tTraining Loss: 2.411817 \tValidation Loss: 0.960189\n",
            "Epoch: 11 \tTraining Loss: 2.376774 \tValidation Loss: 0.971487\n",
            "Epoch: 12 \tTraining Loss: 2.327167 \tValidation Loss: 0.820179\n",
            "Saving model..\n",
            "Epoch: 13 \tTraining Loss: 2.358656 \tValidation Loss: 0.900612\n",
            "Epoch: 14 \tTraining Loss: 2.433764 \tValidation Loss: 0.855786\n",
            "Epoch: 15 \tTraining Loss: 2.344744 \tValidation Loss: 0.915528\n",
            "Epoch: 16 \tTraining Loss: 2.437297 \tValidation Loss: 1.033711\n",
            "Epoch: 17 \tTraining Loss: 2.459939 \tValidation Loss: 1.001807\n",
            "Epoch: 18 \tTraining Loss: 2.441514 \tValidation Loss: 0.986389\n",
            "Epoch: 19 \tTraining Loss: 2.400321 \tValidation Loss: 0.864931\n",
            "Epoch: 20 \tTraining Loss: 2.377822 \tValidation Loss: 0.811715\n",
            "Saving model..\n",
            "Epoch: 21 \tTraining Loss: 2.421224 \tValidation Loss: 0.925071\n",
            "Epoch: 22 \tTraining Loss: 2.319564 \tValidation Loss: 0.842737\n",
            "Epoch: 23 \tTraining Loss: 2.371025 \tValidation Loss: 0.908349\n",
            "Epoch: 24 \tTraining Loss: 2.335101 \tValidation Loss: 0.951160\n",
            "Epoch: 25 \tTraining Loss: 2.382641 \tValidation Loss: 0.867160\n",
            "Epoch: 26 \tTraining Loss: 2.359100 \tValidation Loss: 0.942489\n",
            "Epoch: 27 \tTraining Loss: 2.331063 \tValidation Loss: 1.006103\n",
            "Epoch: 28 \tTraining Loss: 2.404452 \tValidation Loss: 0.906151\n",
            "Epoch: 29 \tTraining Loss: 2.292799 \tValidation Loss: 0.832131\n",
            "Epoch: 30 \tTraining Loss: 2.309094 \tValidation Loss: 0.812458\n",
            "Epoch: 31 \tTraining Loss: 2.334674 \tValidation Loss: 0.836793\n",
            "Epoch: 32 \tTraining Loss: 2.270531 \tValidation Loss: 0.805288\n",
            "Saving model..\n",
            "Epoch: 33 \tTraining Loss: 2.319481 \tValidation Loss: 0.844808\n",
            "Epoch: 34 \tTraining Loss: 2.302042 \tValidation Loss: 0.866167\n",
            "Epoch: 35 \tTraining Loss: 2.251572 \tValidation Loss: 0.783612\n",
            "Saving model..\n",
            "Epoch: 36 \tTraining Loss: 2.277418 \tValidation Loss: 0.882049\n",
            "Epoch: 37 \tTraining Loss: 2.383668 \tValidation Loss: 0.916641\n",
            "Epoch: 38 \tTraining Loss: 2.324014 \tValidation Loss: 0.969423\n",
            "Epoch: 39 \tTraining Loss: 2.286693 \tValidation Loss: 0.814232\n",
            "Epoch: 40 \tTraining Loss: 2.254511 \tValidation Loss: 0.917567\n",
            "Epoch: 41 \tTraining Loss: 2.266144 \tValidation Loss: 0.919667\n",
            "Epoch: 42 \tTraining Loss: 2.280417 \tValidation Loss: 0.889670\n",
            "Epoch: 43 \tTraining Loss: 2.294260 \tValidation Loss: 0.893163\n",
            "Epoch: 44 \tTraining Loss: 2.258570 \tValidation Loss: 0.878802\n",
            "Epoch: 45 \tTraining Loss: 2.249746 \tValidation Loss: 0.932738\n",
            "Epoch: 46 \tTraining Loss: 2.213267 \tValidation Loss: 0.947926\n",
            "Epoch: 47 \tTraining Loss: 2.248685 \tValidation Loss: 0.887115\n",
            "Epoch: 48 \tTraining Loss: 2.266552 \tValidation Loss: 0.942431\n",
            "Epoch: 49 \tTraining Loss: 2.357334 \tValidation Loss: 0.902413\n",
            "Epoch: 50 \tTraining Loss: 2.323903 \tValidation Loss: 0.952315\n"
          ],
          "name": "stdout"
        }
      ]
    },
    {
      "cell_type": "code",
      "metadata": {
        "id": "-wFRHpkmzSHr",
        "outputId": "3ef8b1ea-5816-4325-cb4f-3df5e89d559b",
        "colab": {
          "base_uri": "https://localhost:8080/",
          "height": 34
        }
      },
      "source": [
        "vgg19.load_state_dict(torch.load('VGG19.pt'))"
      ],
      "execution_count": null,
      "outputs": [
        {
          "output_type": "execute_result",
          "data": {
            "text/plain": [
              "<All keys matched successfully>"
            ]
          },
          "metadata": {
            "tags": []
          },
          "execution_count": 14
        }
      ]
    },
    {
      "cell_type": "code",
      "metadata": {
        "id": "MNhMnCubzr4E",
        "outputId": "c50e870b-6fe7-4a60-b015-e67d3ef83c1b",
        "colab": {
          "base_uri": "https://localhost:8080/",
          "height": 85
        }
      },
      "source": [
        "test(dataloaders, vgg19, criterion_scratch, device)"
      ],
      "execution_count": null,
      "outputs": [
        {
          "output_type": "stream",
          "text": [
            "Test Loss: 1.000389\n",
            "\n",
            "\n",
            "Test Accuracy: 74% (620/836)\n"
          ],
          "name": "stdout"
        }
      ]
    },
    {
      "cell_type": "code",
      "metadata": {
        "id": "G_tIlY6cLuuY"
      },
      "source": [
        ""
      ],
      "execution_count": null,
      "outputs": []
    }
  ]
}